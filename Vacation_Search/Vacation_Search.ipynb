{
 "cells": [
  {
   "cell_type": "markdown",
   "metadata": {},
   "source": [
    "## Deliverable 2. Create a Customer Travel Destinations Map."
   ]
  },
  {
   "cell_type": "code",
   "execution_count": 1,
   "metadata": {},
   "outputs": [],
   "source": [
    "# Dependencies and Setup\n",
    "import pandas as pd\n",
    "import requests\n",
    "import gmaps\n",
    "\n",
    "# Import API key\n",
    "from config import g_key\n",
    "\n",
    "# Configure gmaps API key\n",
    "gmaps.configure(api_key=g_key)"
   ]
  },
  {
   "cell_type": "code",
   "execution_count": 2,
   "metadata": {},
   "outputs": [],
   "source": [
    "# 1. Import the WeatherPy_database.csv file. \n",
    "city_data_df = pd.read_csv(\"Weather_Database/WeatherPy_database.csv\")\n",
    "city_data_df.head()"
   ]
  },
  {
   "cell_type": "code",
   "execution_count": 3,
   "metadata": {},
   "outputs": [],
   "source": [
    "# 2. Prompt the user to enter minimum and maximum temperature criteria \n",
    "#min_temp = float(input(\"What is the minimum temperature, in Farenheit, that you would like for your trip?\"))\n",
    "#max_temp = float(input(\"What is the maximum temperature, in Farenheit, that you would like for your trip?\"))"
   ]
  },
  {
   "cell_type": "code",
   "execution_count": 4,
   "metadata": {},
   "outputs": [],
   "source": [
    "# 3. Filter the city_data_df DataFrame using the input statements to create a new DataFrame using the loc method.\n",
    "#preferred_cities_df = city_data_df.loc[(city_data_df['Max Temp'] <= max_temp) & \n",
    "                                      (city_data_df['Max Temp'] >= min_temp)]\n",
    "#preferred_cities_df.head()"
   ]
  },
  {
   "cell_type": "code",
   "execution_count": 5,
   "metadata": {},
   "outputs": [],
   "source": [
    "# 4a. Determine if there are any empty rows.\n",
    "#print(preferred_cities_df.count())"
   ]
  },
  {
   "cell_type": "code",
   "execution_count": 6,
   "metadata": {},
   "outputs": [],
   "source": [
    "# 4b. Drop any empty rows and create a new DataFrame that doesn’t have empty rows.\n",
    "# Drop rows with null values: 7 dropped\n",
    "#preferred_cities_df = preferred_cities_df.dropna()"
   ]
  },
  {
   "cell_type": "code",
   "execution_count": 7,
   "metadata": {},
   "outputs": [],
   "source": [
    "# 5a. Create DataFrame called hotel_df to store hotel names along with city, country, max temp, and coordinates.\n",
    "#hotel_df = preferred_cities_df[['City', 'Country', 'Max Temp', 'Lat', 'Lng']].copy()\n",
    "\n",
    "\n",
    "# 5b. Create a new column \"Hotel Name\"\n",
    "#hotel_df[\"Hotel Name\"] = \"\"\n",
    "#hotel_df.head(10)"
   ]
  },
  {
   "cell_type": "code",
   "execution_count": 8,
   "metadata": {},
   "outputs": [],
   "source": [
    "# 6a. Set parameters to search for hotels within 5000 meters.\n",
    "#params = {'radius': 5000, 'type': 'lodging', 'key': g_key}\n",
    "\n",
    "# 6b. Iterate through the DataFrame\n",
    "\n",
    "#for index, row in hotel_df.iterrows():\n",
    "    # Get the lat and long\n",
    "    #lat = row['Lat']\n",
    "    #lng = row['Lng']\n",
    "    \n",
    "    # 6c. Add the lat and long to location key for the params dict\n",
    "    #params['location'] = f\"{lat},{lng}\"\n",
    "    \n",
    "    # 6d. Use the search term: 'lodging' and our lat and long\n",
    "    #base_url = \"https://maps.googleapis.com/maps/api/place/nearbysearch/json\"\n",
    "    \n",
    "    # 6e. Make request and get the JSON data from the search\n",
    "    #hotels = req.get(base_url, params=params).json()\n",
    "    \n",
    "    # 6f. Grab the first hotel from the results and store the name, give nulls if no hotel found\n",
    "    #city_hotel = hotel_df.loc[index, \"City\"]\n",
    "    \n",
    "    #try:\n",
    "        #hotel_df.loc[index, \"Hotel Name\"] = hotels['results'][0]['name']\n",
    "    #except (IndexError):\n",
    "        #print(f\"Hotel not found for {city_hotel} ...skipping.\")\n",
    "        #hotel_df.loc[index, \"Hotel Name\"] = np.nan"
   ]
  },
  {
   "cell_type": "code",
   "execution_count": 9,
   "metadata": {},
   "outputs": [],
   "source": [
    "# 7. Drop the rows where there is no Hotel Name.\n",
    "#clean_hotel_df = hotel_df.dropna()"
   ]
  },
  {
   "cell_type": "code",
   "execution_count": 10,
   "metadata": {},
   "outputs": [],
   "source": [
    "# 8a. Create the output File (CSV)\n",
    "#output_data_file = open(\"vacation_search/WeatherPy_vacation.csv\")\n",
    "# 8b. Export the City_Data into a csv\n",
    "#clean_hotel_df.to_csv(output_data_file, index_label=\"City_ID\")"
   ]
  },
  {
   "cell_type": "code",
   "execution_count": 11,
   "metadata": {},
   "outputs": [],
   "source": [
    "# 9. Using the template add hotel name, city name, the country code, the weather description and maximum temperature for the city.\n",
    "info_box_template = \"\"\"\n",
    "<dl>\n",
    "\n",
    "<dt>Hotel</dt><dd>{Hotel Name}</dd>\n",
    "\n",
    "<dt>City</dt><dd>{City}</dd>\n",
    "\n",
    "<dt>Country</dt><dd>{Country}</dd>\n",
    "\n",
    "<dt>Current Weather</dt><dd>{\"description placeholder\"}{Max Temp} °F</dd>\n",
    "\n",
    "</dl>\n",
    "\n",
    "\"\"\"\n",
    "\n",
    "# 10a. Get the data from each row and add it to the formatting template and store the data in a list.\n",
    "hotel_info = [info_box_template.format(**row) for index, row in clean_hotel_df.iterrows()]\n",
    "\n",
    "# 10b. Get the latitude and longitude from each row and store in a new DataFrame.\n",
    "locations = clean_hotel_df[[\"Lat\", \"Lng\"]]"
   ]
  },
  {
   "cell_type": "code",
   "execution_count": 12,
   "metadata": {},
   "outputs": [],
   "source": [
    "# 11a. Add a marker layer for each city to the map. \n",
    "\n",
    "# 11b. Display the figure\n",
    "\n",
    "# Add a heatmap of temperature for the vacation spots\n",
    "#locations = clean_hotel_df[['Lat','Lng']]\n",
    "#max_temp = clean_hotel_df[\"Max Temp\"]\n",
    "#fig = gmaps.figure(center =(30.0, 31.0), zoom_level=1.5)\n",
    "#heat_layer = gmaps.heatmap_layer(locations, weights=max_temp, dissipating=False, max_intensity=300, point_radius=4)\n",
    "\n",
    "# Add a marker layer\n",
    "#marker_layer = gmaps.marker_layer(locations, info_box_content=hotel_info)\n",
    "\n",
    "#fig.add_layer(heat_layer)\n",
    "#fig.add_layer(marker_layer)\n",
    "\n",
    "# Call the figure\n",
    "#fig"
   ]
  }
 ],
 "metadata": {
  "kernelspec": {
   "display_name": "PythonData",
   "language": "python",
   "name": "pythondata"
  },
  "language_info": {
   "codemirror_mode": {
    "name": "ipython",
    "version": 3
   },
   "file_extension": ".py",
   "mimetype": "text/x-python",
   "name": "python",
   "nbconvert_exporter": "python",
   "pygments_lexer": "ipython3",
   "version": "3.9.7"
  },
  "latex_envs": {
   "LaTeX_envs_menu_present": true,
   "autoclose": false,
   "autocomplete": true,
   "bibliofile": "biblio.bib",
   "cite_by": "apalike",
   "current_citInitial": 1,
   "eqLabelWithNumbers": true,
   "eqNumInitial": 1,
   "hotkeys": {
    "equation": "Ctrl-E",
    "itemize": "Ctrl-I"
   },
   "labels_anchors": false,
   "latex_user_defs": false,
   "report_style_numbering": false,
   "user_envs_cfg": false
  }
 },
 "nbformat": 4,
 "nbformat_minor": 2
}
